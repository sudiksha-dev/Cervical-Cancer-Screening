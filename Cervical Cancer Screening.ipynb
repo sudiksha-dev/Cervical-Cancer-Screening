{
 "cells": [
  {
   "cell_type": "code",
   "execution_count": 8,
   "id": "06982bc6",
   "metadata": {},
   "outputs": [
    {
     "name": "stdout",
     "output_type": "stream",
     "text": [
      "What is the patient's age? 27\n"
     ]
    }
   ],
   "source": [
    "while True: \n",
    "    age = input(\"What is the patient's age? \")\n",
    "    try: \n",
    "        age = int(age)\n",
    "        ageTemp = age\n",
    "        ageNormal = age\n",
    "        ageInadequateSample = age\n",
    "        ageASCUS = age\n",
    "        ageASC_H = age\n",
    "        ageAGUS = age\n",
    "        ageLSIL = age\n",
    "        ageHSIL = age\n",
    "        ageChanges = age\n",
    "    except ValueError:\n",
    "        print(\"Please enter a valid number.\")\n",
    "        continue\n",
    "    else: \n",
    "        break"
   ]
  },
  {
   "cell_type": "markdown",
   "id": "058d349d",
   "metadata": {},
   "source": [
    "## Normal"
   ]
  },
  {
   "cell_type": "code",
   "execution_count": 9,
   "id": "82398abb",
   "metadata": {},
   "outputs": [
    {
     "name": "stdout",
     "output_type": "stream",
     "text": [
      "Is the patient normal (Y/N)? y\n"
     ]
    }
   ],
   "source": [
    "while True: \n",
    "    normal = input(\"Is the patient normal (Y/N)? \")\n",
    "    try: \n",
    "        normal = str(normal)\n",
    "    except ValueError: \n",
    "        print(\"Please enter Y or N.\")\n",
    "        continue\n",
    "    else:\n",
    "        break"
   ]
  },
  {
   "cell_type": "code",
   "execution_count": 10,
   "id": "8559ec84",
   "metadata": {
    "scrolled": true
   },
   "outputs": [
    {
     "name": "stdout",
     "output_type": "stream",
     "text": [
      "Patient is normal\n",
      "Suggested screening for cervical cancer is at age 30\n",
      "Please enter a valid input\n"
     ]
    }
   ],
   "source": [
    "if normal == \"Y\" or normal == \"y\":\n",
    "    ageNormal = age\n",
    "    ageNormal += 3\n",
    "    print(\"Patient is normal\")\n",
    "    print(\"Suggested screening for cervical cancer is at age\", ageNormal)\n",
    "if normal == \"N\" or normal == \"n\": \n",
    "    print(\"Proceed with the screening process\")\n",
    "else: \n",
    "    print(\"Please enter a valid input\")"
   ]
  },
  {
   "cell_type": "markdown",
   "id": "3bf15aca",
   "metadata": {},
   "source": [
    "## Inadequate Sample"
   ]
  },
  {
   "cell_type": "code",
   "execution_count": 16,
   "id": "167ed0e2",
   "metadata": {},
   "outputs": [
    {
     "name": "stdout",
     "output_type": "stream",
     "text": [
      "Is the patient's sample inadequate (Y/N)? n\n"
     ]
    }
   ],
   "source": [
    "while True:\n",
    "    inadequateSample = input(\"Is the patient's sample inadequate (Y/N)? \")\n",
    "    try: \n",
    "        inadequateSample = str(inadequateSample)\n",
    "    except ValueError: \n",
    "        print(\"Please enter Y or N.\")\n",
    "        continue\n",
    "    else:\n",
    "        break"
   ]
  },
  {
   "cell_type": "code",
   "execution_count": 17,
   "id": "63a99cbc",
   "metadata": {},
   "outputs": [
    {
     "name": "stdout",
     "output_type": "stream",
     "text": [
      "Suggested screening for cervical cancer is at age 39\n"
     ]
    }
   ],
   "source": [
    "if inadequateSample == \"Y\" or inadequateSample == \"y\":\n",
    "    print(\"Repeat cytology in 3 months\")\n",
    "if normal == \"N\" or normal == \"n\": \n",
    "    ageInadequateSample = age\n",
    "    ageInadequateSample += 3\n",
    "    print(\"Suggested screening for cervical cancer is at age\", ageInadequateSample)\n",
    "else: \n",
    "    print(\"Please enter a valid input\")"
   ]
  },
  {
   "cell_type": "markdown",
   "id": "d51d683f",
   "metadata": {},
   "source": [
    "## ASCUS"
   ]
  },
  {
   "cell_type": "code",
   "execution_count": 11,
   "id": "653ed7f1",
   "metadata": {},
   "outputs": [
    {
     "name": "stdout",
     "output_type": "stream",
     "text": [
      "Has the patient done HPV testing before (Y/N)? N\n"
     ]
    }
   ],
   "source": [
    "while True: \n",
    "    hpv = input(\"Has the patient done HPV testing before (Y/N)? \")\n",
    "    try: \n",
    "        hpv = str(hpv)\n",
    "    except ValueError: \n",
    "        print(\"Please enter Y or N.\")\n",
    "        continue\n",
    "    else:\n",
    "        break       "
   ]
  },
  {
   "cell_type": "code",
   "execution_count": 12,
   "id": "cbb3ccf2",
   "metadata": {},
   "outputs": [
    {
     "name": "stdout",
     "output_type": "stream",
     "text": [
      "Repeat cytology in 6 months\n",
      "Is the patient's 6 month cytology report positive or negaitve (P/N)? N\n",
      "Repeat cytology in 6 months\n",
      "Is the patient's 12 month cytology report positive or negaitve (P/N)? N\n",
      "Patient is recommended to continue with routine screening. The next should be at age  30\n"
     ]
    }
   ],
   "source": [
    "if hpv == \"Y\" and age >= 30:\n",
    "    hpvTest = input(\"Is the HPV-DNA test positive or negative (P/N)? \")\n",
    "    \n",
    "    if hpvTest == \"P\":\n",
    "        print(\"Patient is recommended to get a colonoscopy\")\n",
    "    else: \n",
    "        ageASCUS += 1\n",
    "        print(\"Repeat cytology in 12 months when the patient is \", ageASCUS)\n",
    "    \n",
    "if hpv == \"N\" and age <30:\n",
    "    print(\"Repeat cytology in 6 months\")\n",
    "    cytologyASCUS = input(\"Is the patient's 6 month cytology report positive or negaitve (P/N)? \")\n",
    "    \n",
    "    if cytologyASCUS == \"P\":\n",
    "        print(\"Patient is recommended to get a colonoscopy\")\n",
    "    if cytologyASCUS == \"N\": \n",
    "        print(\"Repeat cytology in 6 months\")\n",
    "        cytologyASCUS2 = input(\"Is the patient's 12 month cytology report positive or negaitve (P/N)? \")\n",
    "        if cytologyASCUS2 == \"P\":\n",
    "            print(\"Patient is recommended to get a colonoscopy\")\n",
    "        if cytologyASCUS2 == \"N\":\n",
    "            ageASCUS +=3\n",
    "            print(\"Patient is recommended to continue with routine screening. The next should be at age \", ageASCUS)"
   ]
  },
  {
   "cell_type": "markdown",
   "id": "3e170299",
   "metadata": {},
   "source": [
    "## ASC-H"
   ]
  },
  {
   "cell_type": "code",
   "execution_count": null,
   "id": "413273d4",
   "metadata": {},
   "outputs": [],
   "source": [
    "while True: \n",
    "    ASC_H = input(\"Is ASC-H observed in the patient (Y/N)? \")\n",
    "    try: \n",
    "        ASC_H = str(ASC_H)\n",
    "    except ValueError: \n",
    "        print(\"Please enter Y or N.\")\n",
    "        continue\n",
    "    else:\n",
    "        break"
   ]
  },
  {
   "cell_type": "code",
   "execution_count": null,
   "id": "5c549913",
   "metadata": {},
   "outputs": [],
   "source": [
    "if ASC_H == \"Y\":\n",
    "    print(\"Patient is recommended to get a colonoscopy\")\n",
    "else:\n",
    "    ageASC_H += 3\n",
    "    print(\"Patient is recommended to continue with routine screening at age \", ageASC_H)"
   ]
  },
  {
   "cell_type": "markdown",
   "id": "192c844c",
   "metadata": {},
   "source": [
    "## AGUS/Atypical endocervical cells/Atypical endometrial cells"
   ]
  },
  {
   "cell_type": "code",
   "execution_count": null,
   "id": "4f974b17",
   "metadata": {},
   "outputs": [],
   "source": [
    "while True: \n",
    "    AGUS = input(\"Are AGUS/Atypical endocervical cells/Atypical endometrial cells observed in the patient (Y/N)? \")\n",
    "    try: \n",
    "        AGUS = str(AGUS)\n",
    "    except ValueError: \n",
    "        print(\"Please enter Y or N.\")\n",
    "        continue\n",
    "    else:\n",
    "        break"
   ]
  },
  {
   "cell_type": "code",
   "execution_count": null,
   "id": "0ddc8668",
   "metadata": {},
   "outputs": [],
   "source": [
    "if AGUS == \"Y\":\n",
    "    print(\"Patient is recommended to get a colonoscopy and an endometrial sampling\")\n",
    "else:\n",
    "    ageAGUS += 3\n",
    "    print(\"Patient is recommended to continue with routine screening at age \", ageAGUS)"
   ]
  },
  {
   "cell_type": "markdown",
   "id": "0b7f0048",
   "metadata": {},
   "source": [
    "## LSIL"
   ]
  },
  {
   "cell_type": "code",
   "execution_count": null,
   "id": "207ebc0d",
   "metadata": {},
   "outputs": [],
   "source": [
    "while True: \n",
    "    LSIL = input(\"Is LSIL observed in the patient (Y/N)? \")\n",
    "    try: \n",
    "        LSIL = str(LSIL)\n",
    "    except ValueError: \n",
    "        print(\"Please enter Y or N.\")\n",
    "        continue\n",
    "    else:\n",
    "        break"
   ]
  },
  {
   "cell_type": "code",
   "execution_count": null,
   "id": "a0a6a733",
   "metadata": {},
   "outputs": [],
   "source": [
    "if LSIL == \"Y\":\n",
    "    print(\"Patient is recommended to get a colonoscopy or repeat cytology in 6 months\")\n",
    "    cytologyLSIL = input(\"Is the patient's 6 month cytology report positive or negaitve (P/N)? \")\n",
    "    \n",
    "    if cytologyLSIL == \"P\":\n",
    "        print(\"Patient is recommended to get a colonoscopy\")\n",
    "    if cytologyLSIL == \"N\": \n",
    "        print(\"Repeat cytology in 6 months\")\n",
    "        cytologyLSIL2 = input(\"Is the patient's 12 month cytology report positive or negaitve (P/N)? \")\n",
    "        if cytologyLSIL2 == \"P\":\n",
    "            print(\"Patient is recommended to get a colonoscopy\")\n",
    "        if cytologyLSIL2 == \"N\":\n",
    "            ageLSIL +=3\n",
    "            print(\"Patient is recommended to continue with routine screening. The next should be at age \", ageLSIL)\n",
    "else:\n",
    "    ageLSIL += 3\n",
    "    print(\"Patient is recommended to continue with routine screening at age \", ageLSIL)"
   ]
  },
  {
   "cell_type": "markdown",
   "id": "55169e99",
   "metadata": {},
   "source": [
    "## HSIL"
   ]
  },
  {
   "cell_type": "code",
   "execution_count": null,
   "id": "136de5f9",
   "metadata": {},
   "outputs": [],
   "source": [
    "while True: \n",
    "    HSIL = input(\"Is HSIL observed in the patient (Y/N)? \")\n",
    "    try: \n",
    "        HSIL = str(HSIL)\n",
    "    except ValueError: \n",
    "        print(\"Please enter Y or N.\")\n",
    "        continue\n",
    "    else:\n",
    "        break"
   ]
  },
  {
   "cell_type": "code",
   "execution_count": null,
   "id": "822c9fc2",
   "metadata": {},
   "outputs": [],
   "source": [
    "if HSIL == \"Y\":\n",
    "    print(\"Patient is recommended to get a colonoscopy and an endometrial sampling\")\n",
    "else:\n",
    "    ageHSIL += 3\n",
    "    print(\"Patient is recommended to continue with routine screening at age \", ageHSIL)"
   ]
  },
  {
   "cell_type": "markdown",
   "id": "d9f51071",
   "metadata": {},
   "source": [
    "## Squamous carcinoma/other malignant changes"
   ]
  },
  {
   "cell_type": "code",
   "execution_count": null,
   "id": "d1e0c833",
   "metadata": {},
   "outputs": [],
   "source": [
    "while True: \n",
    "    changes = input(\"Are squamous carcinoma or other malignant changes observed in the patient (Y/N)? \")\n",
    "    try: \n",
    "        changes = str(changes)\n",
    "    except ValueError: \n",
    "        print(\"Please enter Y or N.\")\n",
    "        continue\n",
    "    else:\n",
    "        break"
   ]
  },
  {
   "cell_type": "code",
   "execution_count": null,
   "id": "31fd1b5e",
   "metadata": {},
   "outputs": [],
   "source": [
    "if changes == \"Y\":\n",
    "    print(\"Patient is recommended to get a colonoscopy and an endometrial sampling\")\n",
    "else:\n",
    "    ageChanges += 3\n",
    "    print(\"Patient is recommended to continue with routine screening at age \", ageChanges)"
   ]
  },
  {
   "cell_type": "markdown",
   "id": "cf770196",
   "metadata": {},
   "source": []
  }
 ],
 "metadata": {
  "kernelspec": {
   "display_name": "Python 3 (ipykernel)",
   "language": "python",
   "name": "python3"
  },
  "language_info": {
   "codemirror_mode": {
    "name": "ipython",
    "version": 3
   },
   "file_extension": ".py",
   "mimetype": "text/x-python",
   "name": "python",
   "nbconvert_exporter": "python",
   "pygments_lexer": "ipython3",
   "version": "3.9.13"
  }
 },
 "nbformat": 4,
 "nbformat_minor": 5
}
